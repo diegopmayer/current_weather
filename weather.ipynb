{
 "cells": [
  {
   "cell_type": "markdown",
   "metadata": {},
   "source": [
    "# Data colected in real time to current weather in Brazil\n",
    "\n",
    "Link -> https://api.hgbrasil.com/weather?woeid=455827"
   ]
  },
  {
   "cell_type": "code",
   "execution_count": 13,
   "metadata": {},
   "outputs": [],
   "source": [
    "# library\n",
    "import requests\n",
    "import datetime\n",
    "import json"
   ]
  },
  {
   "cell_type": "code",
   "execution_count": 4,
   "metadata": {},
   "outputs": [],
   "source": [
    "# get the current date\n",
    "date = datetime.date.today()"
   ]
  },
  {
   "cell_type": "code",
   "execution_count": 24,
   "metadata": {},
   "outputs": [
    {
     "name": "stdout",
     "output_type": "stream",
     "text": [
      "Digite a cidade: Cascavel\n"
     ]
    }
   ],
   "source": [
    "# variável da cidade\n",
    "city = input('Digite a cidade: ')"
   ]
  },
  {
   "cell_type": "code",
   "execution_count": 8,
   "metadata": {},
   "outputs": [],
   "source": [
    "response = requests.get('https://api.hgbrasil.com/weather?woeid=455827')"
   ]
  },
  {
   "cell_type": "code",
   "execution_count": 11,
   "metadata": {},
   "outputs": [
    {
     "data": {
      "text/plain": [
       "'{\"by\":\"woeid\",\"valid_key\":false,\"results\":{\"temp\":22,\"date\":\"01/07/2019\",\"time\":\"23:40\",\"condition_code\":\"28\",\"description\":\"Tempo nublado\",\"currently\":\"noite\",\"cid\":\"\",\"city\":\"Sao Paulo,\",\"img_id\":\"28n\",\"humidity\":55,\"wind_speedy\":\"20 km/h\",\"sunrise\":\"6:49 am\",\"sunset\":\"5:31 pm\",\"condition_slug\":\"cloud\",\"city_name\":\"Sao Paulo\",\"forecast\":[{\"date\":\"01/07\",\"weekday\":\"Seg\",\"max\":26,\"min\":15,\"description\":\"Parcialmente nublado\",\"condition\":\"cloudly_day\"},{\"date\":\"02/07\",\"weekday\":\"Ter\",\"max\":26,\"min\":15,\"description\":\"Parcialmente nublado\",\"condition\":\"cloudly_day\"},{\"date\":\"03/07\",\"weekday\":\"Qua\",\"max\":26,\"min\":15,\"description\":\"Tempo nublado\",\"condition\":\"cloud\"},{\"date\":\"04/07\",\"weekday\":\"Qui\",\"max\":20,\"min\":15,\"description\":\"Alguns chuviscos\",\"condition\":\"rain\"},{\"date\":\"05/07\",\"weekday\":\"Sex\",\"max\":14,\"min\":10,\"description\":\"Alguns chuviscos\",\"condition\":\"rain\"},{\"date\":\"06/07\",\"weekday\":\"Sáb\",\"max\":11,\"min\":6,\"description\":\"Parcialmente nublado\",\"condition\":\"cloudly_day\"},{\"date\":\"07/07\",\"weekday\":\"Dom\",\"max\":15,\"min\":6,\"description\":\"Parcialmente nublado\",\"condition\":\"cloudly_day\"},{\"date\":\"08/07\",\"weekday\":\"Seg\",\"max\":16,\"min\":9,\"description\":\"Tempo nublado\",\"condition\":\"cloud\"},{\"date\":\"09/07\",\"weekday\":\"Ter\",\"max\":18,\"min\":11,\"description\":\"Parcialmente nublado\",\"condition\":\"cloudly_day\"},{\"date\":\"10/07\",\"weekday\":\"Qua\",\"max\":21,\"min\":10,\"description\":\"Ensolarado com muitas nuvens\",\"condition\":\"cloudly_day\"}]},\"execution_time\":0.0,\"from_cache\":true}'"
      ]
     },
     "execution_count": 11,
     "metadata": {},
     "output_type": "execute_result"
    }
   ],
   "source": [
    "response.text"
   ]
  },
  {
   "cell_type": "code",
   "execution_count": 14,
   "metadata": {},
   "outputs": [],
   "source": [
    "response = json.loads(response.text)"
   ]
  },
  {
   "cell_type": "code",
   "execution_count": 25,
   "metadata": {},
   "outputs": [
    {
     "data": {
      "text/plain": [
       "{'date': '01/07',\n",
       " 'weekday': 'Seg',\n",
       " 'max': 26,\n",
       " 'min': 15,\n",
       " 'description': 'Parcialmente nublado',\n",
       " 'condition': 'cloudly_day'}"
      ]
     },
     "execution_count": 25,
     "metadata": {},
     "output_type": "execute_result"
    }
   ],
   "source": [
    "response['results']['city_name']\n",
    "response['results']['forecast'][0]"
   ]
  },
  {
   "cell_type": "markdown",
   "metadata": {},
   "source": [
    "\n",
    "\n",
    "\n",
    "\n",
    "# Outro Modelo\n",
    "link -> https://openweathermap.org/current\n",
    "API de acesso com 60 requisições gratuitas"
   ]
  },
  {
   "cell_type": "code",
   "execution_count": 24,
   "metadata": {},
   "outputs": [],
   "source": [
    "import requests\n",
    "import json"
   ]
  },
  {
   "cell_type": "code",
   "execution_count": 29,
   "metadata": {},
   "outputs": [
    {
     "name": "stdout",
     "output_type": "stream",
     "text": [
      "Cidade: Foz do Iguacu\n"
     ]
    }
   ],
   "source": [
    "city_name = input(\"Cidade: \")\n",
    "response = requests.get(f'http://api.openweathermap.org/data/2.5/weather?q={city_name}&appid=6a385a793915003bc8c389bcded810b4')"
   ]
  },
  {
   "cell_type": "code",
   "execution_count": 30,
   "metadata": {},
   "outputs": [
    {
     "data": {
      "text/plain": [
       "'{\"coord\":{\"lon\":-54.59,\"lat\":-25.55},\"weather\":[{\"id\":803,\"main\":\"Clouds\",\"description\":\"broken clouds\",\"icon\":\"04n\"}],\"base\":\"stations\",\"main\":{\"temp\":292.49,\"pressure\":1006,\"humidity\":100,\"temp_min\":292.15,\"temp_max\":293.15},\"visibility\":10000,\"wind\":{\"speed\":1.5,\"deg\":210},\"clouds\":{\"all\":75},\"dt\":1562107612,\"sys\":{\"type\":1,\"id\":8354,\"message\":0.0086,\"country\":\"BR\",\"sunrise\":1562063104,\"sunset\":1562101160},\"timezone\":-10800,\"id\":3463030,\"name\":\"Foz do Iguacu\",\"cod\":200}'"
      ]
     },
     "execution_count": 30,
     "metadata": {},
     "output_type": "execute_result"
    }
   ],
   "source": [
    "response.text"
   ]
  },
  {
   "cell_type": "code",
   "execution_count": 31,
   "metadata": {},
   "outputs": [],
   "source": [
    "response_json = json.loads(response.text)"
   ]
  },
  {
   "cell_type": "code",
   "execution_count": 32,
   "metadata": {},
   "outputs": [
    {
     "data": {
      "text/plain": [
       "{'coord': {'lon': -54.59, 'lat': -25.55},\n",
       " 'weather': [{'id': 803,\n",
       "   'main': 'Clouds',\n",
       "   'description': 'broken clouds',\n",
       "   'icon': '04n'}],\n",
       " 'base': 'stations',\n",
       " 'main': {'temp': 292.49,\n",
       "  'pressure': 1006,\n",
       "  'humidity': 100,\n",
       "  'temp_min': 292.15,\n",
       "  'temp_max': 293.15},\n",
       " 'visibility': 10000,\n",
       " 'wind': {'speed': 1.5, 'deg': 210},\n",
       " 'clouds': {'all': 75},\n",
       " 'dt': 1562107612,\n",
       " 'sys': {'type': 1,\n",
       "  'id': 8354,\n",
       "  'message': 0.0086,\n",
       "  'country': 'BR',\n",
       "  'sunrise': 1562063104,\n",
       "  'sunset': 1562101160},\n",
       " 'timezone': -10800,\n",
       " 'id': 3463030,\n",
       " 'name': 'Foz do Iguacu',\n",
       " 'cod': 200}"
      ]
     },
     "execution_count": 32,
     "metadata": {},
     "output_type": "execute_result"
    }
   ],
   "source": [
    "response_json"
   ]
  },
  {
   "cell_type": "code",
   "execution_count": 33,
   "metadata": {},
   "outputs": [],
   "source": [
    "weather = response_json['weather'][0]['main']\n",
    "temper = float(response_json['main']['temp']) - 273.15\n",
    "city = response_json['name']"
   ]
  },
  {
   "cell_type": "code",
   "execution_count": 34,
   "metadata": {},
   "outputs": [
    {
     "name": "stdout",
     "output_type": "stream",
     "text": [
      "Cidade : Foz do Iguacu\n",
      "Clima : Clouds\n",
      "Temperatura : 19.340000000000032\n"
     ]
    }
   ],
   "source": [
    "print(f'Cidade : {city}')\n",
    "print(f'Clima : {weather}')\n",
    "print(f'Temperatura : {temper}')"
   ]
  },
  {
   "cell_type": "code",
   "execution_count": null,
   "metadata": {},
   "outputs": [],
   "source": []
  },
  {
   "cell_type": "code",
   "execution_count": null,
   "metadata": {},
   "outputs": [],
   "source": []
  },
  {
   "cell_type": "code",
   "execution_count": null,
   "metadata": {},
   "outputs": [],
   "source": []
  }
 ],
 "metadata": {
  "kernelspec": {
   "display_name": "Python 3",
   "language": "python",
   "name": "python3"
  },
  "language_info": {
   "codemirror_mode": {
    "name": "ipython",
    "version": 3
   },
   "file_extension": ".py",
   "mimetype": "text/x-python",
   "name": "python",
   "nbconvert_exporter": "python",
   "pygments_lexer": "ipython3",
   "version": "3.6.8"
  }
 },
 "nbformat": 4,
 "nbformat_minor": 2
}
