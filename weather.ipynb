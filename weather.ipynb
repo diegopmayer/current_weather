{
 "cells": [
  {
   "cell_type": "markdown",
   "metadata": {},
   "source": [
    "# Data colected in real time to current weather in Brazil\n",
    "\n",
    "Link -> https://api.hgbrasil.com/weather?woeid=455827"
   ]
  },
  {
   "cell_type": "code",
   "execution_count": 13,
   "metadata": {},
   "outputs": [],
   "source": [
    "# library\n",
    "import requests\n",
    "import datetime\n",
    "import json"
   ]
  },
  {
   "cell_type": "code",
   "execution_count": 4,
   "metadata": {},
   "outputs": [],
   "source": [
    "# get the current date\n",
    "date = datetime.date.today()"
   ]
  },
  {
   "cell_type": "code",
   "execution_count": 24,
   "metadata": {},
   "outputs": [
    {
     "name": "stdout",
     "output_type": "stream",
     "text": [
      "Digite a cidade: Cascavel\n"
     ]
    }
   ],
   "source": [
    "# variável da cidade\n",
    "city = input('Digite a cidade: ')"
   ]
  },
  {
   "cell_type": "code",
   "execution_count": 8,
   "metadata": {},
   "outputs": [],
   "source": [
    "response = requests.get('https://api.hgbrasil.com/weather?woeid=455827')"
   ]
  },
  {
   "cell_type": "code",
   "execution_count": 11,
   "metadata": {},
   "outputs": [
    {
     "data": {
      "text/plain": [
       "'{\"by\":\"woeid\",\"valid_key\":false,\"results\":{\"temp\":22,\"date\":\"01/07/2019\",\"time\":\"23:40\",\"condition_code\":\"28\",\"description\":\"Tempo nublado\",\"currently\":\"noite\",\"cid\":\"\",\"city\":\"Sao Paulo,\",\"img_id\":\"28n\",\"humidity\":55,\"wind_speedy\":\"20 km/h\",\"sunrise\":\"6:49 am\",\"sunset\":\"5:31 pm\",\"condition_slug\":\"cloud\",\"city_name\":\"Sao Paulo\",\"forecast\":[{\"date\":\"01/07\",\"weekday\":\"Seg\",\"max\":26,\"min\":15,\"description\":\"Parcialmente nublado\",\"condition\":\"cloudly_day\"},{\"date\":\"02/07\",\"weekday\":\"Ter\",\"max\":26,\"min\":15,\"description\":\"Parcialmente nublado\",\"condition\":\"cloudly_day\"},{\"date\":\"03/07\",\"weekday\":\"Qua\",\"max\":26,\"min\":15,\"description\":\"Tempo nublado\",\"condition\":\"cloud\"},{\"date\":\"04/07\",\"weekday\":\"Qui\",\"max\":20,\"min\":15,\"description\":\"Alguns chuviscos\",\"condition\":\"rain\"},{\"date\":\"05/07\",\"weekday\":\"Sex\",\"max\":14,\"min\":10,\"description\":\"Alguns chuviscos\",\"condition\":\"rain\"},{\"date\":\"06/07\",\"weekday\":\"Sáb\",\"max\":11,\"min\":6,\"description\":\"Parcialmente nublado\",\"condition\":\"cloudly_day\"},{\"date\":\"07/07\",\"weekday\":\"Dom\",\"max\":15,\"min\":6,\"description\":\"Parcialmente nublado\",\"condition\":\"cloudly_day\"},{\"date\":\"08/07\",\"weekday\":\"Seg\",\"max\":16,\"min\":9,\"description\":\"Tempo nublado\",\"condition\":\"cloud\"},{\"date\":\"09/07\",\"weekday\":\"Ter\",\"max\":18,\"min\":11,\"description\":\"Parcialmente nublado\",\"condition\":\"cloudly_day\"},{\"date\":\"10/07\",\"weekday\":\"Qua\",\"max\":21,\"min\":10,\"description\":\"Ensolarado com muitas nuvens\",\"condition\":\"cloudly_day\"}]},\"execution_time\":0.0,\"from_cache\":true}'"
      ]
     },
     "execution_count": 11,
     "metadata": {},
     "output_type": "execute_result"
    }
   ],
   "source": [
    "response.text"
   ]
  },
  {
   "cell_type": "code",
   "execution_count": 14,
   "metadata": {},
   "outputs": [],
   "source": [
    "response = json.loads(response.text)"
   ]
  },
  {
   "cell_type": "code",
   "execution_count": 25,
   "metadata": {},
   "outputs": [
    {
     "data": {
      "text/plain": [
       "{'date': '01/07',\n",
       " 'weekday': 'Seg',\n",
       " 'max': 26,\n",
       " 'min': 15,\n",
       " 'description': 'Parcialmente nublado',\n",
       " 'condition': 'cloudly_day'}"
      ]
     },
     "execution_count": 25,
     "metadata": {},
     "output_type": "execute_result"
    }
   ],
   "source": [
    "response['results']['city_name']\n",
    "response['results']['forecast'][0]"
   ]
  },
  {
   "cell_type": "code",
   "execution_count": null,
   "metadata": {},
   "outputs": [],
   "source": []
  }
 ],
 "metadata": {
  "kernelspec": {
   "display_name": "Python 3",
   "language": "python",
   "name": "python3"
  },
  "language_info": {
   "codemirror_mode": {
    "name": "ipython",
    "version": 3
   },
   "file_extension": ".py",
   "mimetype": "text/x-python",
   "name": "python",
   "nbconvert_exporter": "python",
   "pygments_lexer": "ipython3",
   "version": "3.6.8"
  }
 },
 "nbformat": 4,
 "nbformat_minor": 2
}
